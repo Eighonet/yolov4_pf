{
 "cells": [
  {
   "cell_type": "code",
   "execution_count": 2,
   "id": "5ffeb505",
   "metadata": {},
   "outputs": [],
   "source": [
    "from scripts.inference import simple_inference, inference\n",
    "from scripts.utils import get_occupancy"
   ]
  },
  {
   "cell_type": "code",
   "execution_count": null,
   "id": "8362bd7c",
   "metadata": {},
   "outputs": [],
   "source": [
    "inference(threshold = 0.35,\\\n",
    "          input_folder = \"yolov4/examples/\", output_folder = \"yolov4/output/\", output_type = \"full\")"
   ]
  },
  {
   "cell_type": "markdown",
   "id": "a1cd6e71",
   "metadata": {},
   "source": [
    "Before executing the following line, please specify the path to annotations and parking images metadata."
   ]
  },
  {
   "cell_type": "code",
   "execution_count": null,
   "id": "072af2f9",
   "metadata": {},
   "outputs": [],
   "source": [
    "get_occupancy(detectins_path='yolov4/output/output.csv', parking_annotations='annotation_widget/annotations.json',\\\n",
    "              image_metadata='annotation_widget/metadata.json')"
   ]
  }
 ],
 "metadata": {
  "kernelspec": {
   "display_name": "Python 3",
   "language": "python",
   "name": "python3"
  },
  "language_info": {
   "codemirror_mode": {
    "name": "ipython",
    "version": 3
   },
   "file_extension": ".py",
   "mimetype": "text/x-python",
   "name": "python",
   "nbconvert_exporter": "python",
   "pygments_lexer": "ipython3",
   "version": "3.8.8"
  }
 },
 "nbformat": 4,
 "nbformat_minor": 5
}
